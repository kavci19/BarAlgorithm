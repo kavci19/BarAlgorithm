{
 "cells": [
  {
   "cell_type": "code",
   "execution_count": 2,
   "metadata": {
    "scrolled": true
   },
   "outputs": [],
   "source": [
    "import requests\n",
    "import time\n",
    "from datetime import datetime\n",
    "import winsound\n",
    "\n",
    "clientKey = 'ROXZBKOQYZKNQHTFGERLA5RLPN2LLHSZ'\n",
    "endpoint = r\"https://api.tdameritrade.com/v1/marketdata/quotes\""
   ]
  },
  {
   "cell_type": "code",
   "execution_count": 3,
   "metadata": {
    "scrolled": false
   },
   "outputs": [],
   "source": [
    "def retrieveStockQuote(stock):\n",
    "    payload = {'apikey':clientKey,\n",
    "                'symbol': stock}\n",
    "\n",
    "    content = requests.get(url = endpoint, params = payload)\n",
    "\n",
    "    data = content.json()\n",
    "    stockQuote = data.get(stock)\n",
    "    \n",
    "    openPrice = stockQuote.get('openPriceInDouble')\n",
    "    closePrice = stockQuote.get('closePriceInDouble')\n",
    "    highPrice = stockQuote.get('highPriceInDouble')\n",
    "    lowPrice = stockQuote.get('lowPriceInDouble')\n",
    "    \n",
    "    stockQuote = [openPrice, closePrice, highPrice, lowPrice]\n",
    "    return stockQuote\n",
    "    \n"
   ]
  },
  {
   "cell_type": "code",
   "execution_count": 4,
   "metadata": {},
   "outputs": [],
   "source": [
    "class stockID:\n",
    "    \n",
    "    def __init__(self, quote):\n",
    "        \n",
    "        self.open = quote[0]\n",
    "        self.close = quote[1]\n",
    "        self.high = quote[2]\n",
    "        self.low = quote[3]\n",
    "    \n",
    "    def isUpward(self):\n",
    "        \n",
    "        return self.close > self.open\n",
    "    \n",
    "    def isDownward(self):\n",
    "        \n",
    "        return self.close < self.open\n",
    "    \n",
    "    def halfMark(self):\n",
    "        \n",
    "        return self.open + ((self.close - self.open)/2)\n",
    "    \n",
    "    def isQuarterGrowthPlus(self, previous):\n",
    "        \n",
    "        minGrowth = (previous.open - previous.close)/2 \n",
    "        \n",
    "        \n",
    "        \n",
    "        if (self.close >= previous.open + minGrowth):\n",
    "            return True\n",
    "        \n",
    "        else:\n",
    "            return False\n",
    "    \n",
    "    \n"
   ]
  },
  {
   "cell_type": "code",
   "execution_count": 6,
   "metadata": {},
   "outputs": [
    {
     "name": "stdout",
     "output_type": "stream",
     "text": [
      "Current Time = 14:00:38\n",
      "\n"
     ]
    },
    {
     "ename": "KeyboardInterrupt",
     "evalue": "",
     "output_type": "error",
     "traceback": [
      "\u001b[1;31m---------------------------------------------------------------------------\u001b[0m",
      "\u001b[1;31mKeyboardInterrupt\u001b[0m                         Traceback (most recent call last)",
      "\u001b[1;32m<ipython-input-6-a857bb910040>\u001b[0m in \u001b[0;36m<module>\u001b[1;34m\u001b[0m\n\u001b[0;32m     44\u001b[0m \u001b[1;33m\u001b[0m\u001b[0m\n\u001b[0;32m     45\u001b[0m     \u001b[0mprint\u001b[0m\u001b[1;33m(\u001b[0m\u001b[1;33m)\u001b[0m\u001b[1;33m\u001b[0m\u001b[1;33m\u001b[0m\u001b[0m\n\u001b[1;32m---> 46\u001b[1;33m     \u001b[0mtime\u001b[0m\u001b[1;33m.\u001b[0m\u001b[0msleep\u001b[0m\u001b[1;33m(\u001b[0m\u001b[1;36m60\u001b[0m\u001b[1;33m)\u001b[0m\u001b[1;33m\u001b[0m\u001b[1;33m\u001b[0m\u001b[0m\n\u001b[0m\u001b[0;32m     47\u001b[0m \u001b[1;33m\u001b[0m\u001b[0m\n\u001b[0;32m     48\u001b[0m \u001b[1;33m\u001b[0m\u001b[0m\n",
      "\u001b[1;31mKeyboardInterrupt\u001b[0m: "
     ]
    }
   ],
   "source": [
    "frequency = 1000  # Set Frequency To 2500 Hertz\n",
    "duration = 1000  # Set Duration To 1000 ms == 1 second\n",
    "    \n",
    "quoteTwoMinutesAgo = stockID([0,0, 0,0])\n",
    "quoteOneMinuteAgo = stockID([0,0, 0,0])\n",
    "quoteCurrent = stockID([0,0,0,0])\n",
    "\n",
    "\n",
    "\n",
    "buffer = 0.03\n",
    "\n",
    "i = 0\n",
    "\n",
    "while (True):\n",
    "    now = datetime.now()\n",
    "    current_time = now.strftime(\"%H:%M:%S\")\n",
    "    print(\"Current Time =\", current_time)\n",
    "    \n",
    "    quoteTwoMinutesAgo = quoteOneMinuteAgo\n",
    "    quoteOneMinuteAgo = quoteCurrent\n",
    "    quoteCurrent = stockID(retrieveStockQuote('/CLK20'))\n",
    "    \n",
    "    \n",
    "    if (quoteTwoMinutesAgo.isUpward() and\n",
    "        quoteOneMinuteAgo.isDownward() and\n",
    "        quoteCurrent.isUpward()):\n",
    "\n",
    "        if (quoteOneMinuteAgo.close >= quoteTwoMinutesAgo.halfMark()):\n",
    "\n",
    "            \n",
    "            if (quoteTwoMinutesAgo.close + buffer >= quoteOneMinuteAgo.open and\n",
    "                quoteTwoMinutesAgo.close - buffer <= quoteOneMinuteAgo.open):\n",
    "                \n",
    "                if (quoteCurrent.open + buffer >= quoteOneMinuteAgo.close and\n",
    "                    quoteCurrent.open - buffer <= quoteOneMinuteAgo.close):\n",
    "                    \n",
    "                    \n",
    "                    if (quoteCurrent.isQuarterGrowthPlus(quoteOneMinuteAgo)):\n",
    "                        \n",
    "                        print('Buy now!')\n",
    "                        winsound.Beep(frequency, duration)\n",
    "\n",
    "    \n",
    "    \n",
    "    print()\n",
    "    time.sleep(60)\n",
    "    \n",
    "    \n"
   ]
  },
  {
   "cell_type": "code",
   "execution_count": null,
   "metadata": {},
   "outputs": [],
   "source": []
  }
 ],
 "metadata": {
  "kernelspec": {
   "display_name": "Python 3",
   "language": "python",
   "name": "python3"
  },
  "language_info": {
   "codemirror_mode": {
    "name": "ipython",
    "version": 3
   },
   "file_extension": ".py",
   "mimetype": "text/x-python",
   "name": "python",
   "nbconvert_exporter": "python",
   "pygments_lexer": "ipython3",
   "version": "3.7.4"
  }
 },
 "nbformat": 4,
 "nbformat_minor": 2
}
